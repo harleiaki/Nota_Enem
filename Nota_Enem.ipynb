{
  "nbformat": 4,
  "nbformat_minor": 0,
  "metadata": {
    "colab": {
      "provenance": [],
      "authorship_tag": "ABX9TyNxrl/o/a0GBVTRyB9abIEg",
      "include_colab_link": true
    },
    "kernelspec": {
      "name": "python3",
      "display_name": "Python 3"
    },
    "language_info": {
      "name": "python"
    }
  },
  "cells": [
    {
      "cell_type": "markdown",
      "metadata": {
        "id": "view-in-github",
        "colab_type": "text"
      },
      "source": [
        "<a href=\"https://colab.research.google.com/github/harleiaki/Nota_Enem/blob/main/Nota_Enem.ipynb\" target=\"_parent\"><img src=\"https://colab.research.google.com/assets/colab-badge.svg\" alt=\"Open In Colab\"/></a>"
      ]
    },
    {
      "cell_type": "markdown",
      "source": [
        "# Desafio do Módulo 1\n",
        "Para este desafio, você recebeu uma demanda. Sua demanda será, utilizando o Google Colab (https://colab.research.google.com/) para praticar, criar 4 variáveis que armazenem as notas do Enem de um aluno; essas variáveis podem receber valores de zero a cem (0 a 100). As notas são:\n",
        "\n",
        "*  Nota de Ciências da Natureza;\n",
        "*  Nota de Ciências Humanas;\n",
        "*  Nota de Matemática;\n",
        "*  Nota de Redação.\n",
        "\n",
        "A partir dessas 4 notas, você deve gerar a média desse aluno e apresentar na tela.\n",
        "Siga aprimorando seus conhecimentos e garanta um mundo de oportunidades! Vamos lá!"
      ],
      "metadata": {
        "id": "opaPeYLDNnok"
      }
    },
    {
      "cell_type": "markdown",
      "source": [
        "# Operadores\n",
        "\n",
        "| Operação| Operador| Exemplo| Resultado\n",
        "|:-|---|-:|--|\n",
        "| Soma      | `+` | `9+7` | `16` |\n",
        "| Subtração | `-` | `9-7` | `2` |\n",
        "| Multiplicação | `*` | `9*7` | `63` |\n",
        "| Divisão | `/` | `5 / 2` | `2.5` |\n",
        "| Exponenciação | `**` | `9**2` | `81` |\n",
        "| Módulo | `%` | `9 % 2`| `1` |"
      ],
      "metadata": {
        "id": "UyzY3hIVzUHi"
      }
    },
    {
      "cell_type": "markdown",
      "source": [
        "# Nota_Aluno\n",
        "\n",
        "| Aluno| Ciências da Natureza| Ciências Humanas| Matemática| Redação|\n",
        "|--|-:|-:|-:|-:|\n",
        "| Aluno1 | 70| 70| 90| 90|\n"
      ],
      "metadata": {
        "id": "ndJbCgBWxZKK"
      }
    },
    {
      "cell_type": "code",
      "source": [
        "# Definindo as notas\n",
        "nota_ciencias_natureza = 70\n",
        "nota_ciencias_humanas = 70\n",
        "nota_matematica = 90\n",
        "nota_redacao = 90\n",
        "\n",
        "# Calculando a média\n",
        "media = (nota_ciencias_natureza + nota_ciencias_humanas + nota_matematica + nota_redacao) / 4\n",
        "\n",
        "# Exibindo a média\n",
        "print(\"A média do aluno é:\", media)"
      ],
      "metadata": {
        "colab": {
          "base_uri": "https://localhost:8080/"
        },
        "id": "RPXmd9kbyIqP",
        "outputId": "8861f175-c22a-4f32-842e-a0ee82e0d0dc"
      },
      "execution_count": 5,
      "outputs": [
        {
          "output_type": "stream",
          "name": "stdout",
          "text": [
            "A média do aluno é: 80.0\n"
          ]
        }
      ]
    },
    {
      "cell_type": "code",
      "source": [],
      "metadata": {
        "id": "TNBt0KXV1BgI"
      },
      "execution_count": null,
      "outputs": []
    }
  ]
}